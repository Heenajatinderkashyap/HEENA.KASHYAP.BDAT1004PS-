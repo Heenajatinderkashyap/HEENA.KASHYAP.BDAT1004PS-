{
 "cells": [
  {
   "cell_type": "markdown",
   "id": "67979406",
   "metadata": {},
   "source": [
    "                                                 Problem Set 1\n",
    "                                                 \n",
    "                                                python programs \n",
    "-> Questiins 6 to ten:\n",
    "Q6 You can turn a word into pig-Latin using the following two rules(simplified):\n",
    "• If the word starts with a consonant, move that letter to the end and append \n",
    "'ay'. For example, 'happy' becomes 'appyhay' and 'pencil' becomes 'encilpay'.\n",
    "• If the word starts with a vowel, simply append 'way' to the end of the word. \n",
    "For example, 'enter' becomes 'enterway' and 'other' becomes 'otherway' . For \n",
    "our purposes, there are 5 vowels: a, e, i, o, u (so we count y as a consonant).\n",
    "Write a function pig() that takes a word (i.e., a string) as input and returns its pig\u0002Latin form. Your function should still work if the input word contains upper case \n",
    "characters. Your output should always be lower case however.\n",
    ">>> pig('happy')\n",
    "'appyhay'\n",
    ">>> pig('Enter')\n",
    "'enterway' \n",
    "\n"
   ]
  },
  {
   "cell_type": "code",
   "execution_count": 16,
   "id": "6ad631af",
   "metadata": {},
   "outputs": [
    {
     "name": "stdout",
     "output_type": "stream",
     "text": [
      "please enter your name: enter\n"
     ]
    },
    {
     "data": {
      "text/plain": [
       "'enterway'"
      ]
     },
     "execution_count": 16,
     "metadata": {},
     "output_type": "execute_result"
    }
   ],
   "source": [
    "def modifier():\n",
    "    name = str(input(\"please enter your name: \" )).lower()\n",
    "    vowel =['a','e','i','o','u']\n",
    "\n",
    "    if name[0] not in vowel:\n",
    "            name = name[1:]+name[0]+'ay'\n",
    "    elif name[0] in vowel:\n",
    "        name=name+'way'\n",
    "\n",
    "    return name\n",
    "\n",
    "modifier()"
   ]
  },
  {
   "cell_type": "markdown",
   "id": "95a1adbc",
   "metadata": {},
   "source": [
    "-> Question 7 Python \n",
    "\n",
    "File bloodtype1.txt records blood-types of patients (A, B, AB, O or OO) at a clinic. Write a function bldcount() that reads the file with name name and reports (i.e., prints) how many patients there are in each bloodtype. \n",
    ">>>  bldcount('bloodtype.txt') \n",
    "There  are  10  patients  of  blood  type  A. \n",
    "There  is  one  patient  of  blood  type  B. \n",
    "There  are  10  patients  of  blood  type  AB. \n",
    "There  are  12  patients  of  blood  type  O. \n",
    "There  are  no  patients  of  blood  type  OO. \n"
   ]
  },
  {
   "cell_type": "code",
   "execution_count": 45,
   "id": "7341e606",
   "metadata": {},
   "outputs": [
    {
     "name": "stdout",
     "output_type": "stream",
     "text": [
      "dict_keys(['AB', 'B', 'O', 'A'])\n",
      "dict_values([13, 1, 15, 15])\n"
     ]
    }
   ],
   "source": [
    "from collections import Counter\n",
    "with open(\"bloodtype.txt\") as f:\n",
    "    words =[]\n",
    "    for line in f:\n",
    "        lineword=line.strip().split()\n",
    "        words.extend(lineword)\n",
    "        print(Counter(words).keys())\n",
    "        print(Counter(words).values())\n"
   ]
  },
  {
   "cell_type": "code",
   "execution_count": null,
   "id": "ca09d07f",
   "metadata": {},
   "outputs": [],
   "source": []
  },
  {
   "cell_type": "markdown",
   "id": "d94dc9cb",
   "metadata": {},
   "source": [
    "-> Question 8 Python \n",
    "\n",
    "Write a function curconv() that takes as input: \n",
    "1. a currency represented using a string (e.g., 'JPY' for the Japanese Yen or \n",
    "'EUR' for the Euro) 2. an amount and then converts and returns the amount in US dollars. \n",
    ">>>  curconv('EUR',  100) 122.96544 \n",
    ">>>  curconv('JPY',  100) \n",
    "1.241401 \n",
    "The currency rates you will need are stored in file currencies.txt: \n",
    "AUD \t1.0345157 Australian  Dollar\n",
    "CHF 1.0237414 Swiss Franc\n",
    "CNY 0.1550176 Chinese Yuan \n",
    "DKK 0.1651442 Danish Krone\n",
    "EUR 1.2296544 Euro\n",
    "GBP 1.5550989 British Pound\n",
    "HKD 0.1270207 Hong Kong Dollar\n",
    "INR 0.0177643 Indian Rupee\n",
    "JPY 0.01241401 Japanese Yen\n",
    "MXN 0.0751848 Mexican Peso\n",
    "MYR 0.3145411 Malaysian Ringgit\n",
    "NOK 0.1677063 Norwegian Krone\n",
    "NZD 0.8003591 New Zealand Dollar\n",
    "PHP 0.0233234 Philippine Peso\n",
    "SEK 0.148269 Swedish Krona\n",
    "SGD 0.788871 Singapore Dollar\n",
    "THB 0.0313789 Thai Baht\n"
   ]
  },
  {
   "cell_type": "code",
   "execution_count": 53,
   "id": "bec5d84a",
   "metadata": {},
   "outputs": [
    {
     "name": "stdout",
     "output_type": "stream",
     "text": [
      "122.96544\n",
      "1.241401\n"
     ]
    }
   ],
   "source": [
    "def curconv(currency, amount):\n",
    "    erates = {}\n",
    "    with open('currency.txt'  ) as file:\n",
    "        for line in file:\n",
    "            dataOfFile = line.strip().split(\"\\t\")\n",
    "            codeOfCountry = dataOfFile[0]\n",
    "            rate = float(dataOfFile[1])\n",
    "            erates[codeOfCountry] = rate\n",
    "    return amount * erates[currency]\n",
    "\n",
    "print(curconv('EUR', 100))\n",
    "print(curconv('JPY', 100))        "
   ]
  },
  {
   "cell_type": "markdown",
   "id": "ef60b222",
   "metadata": {},
   "source": [
    "-> Question 9 Python \n",
    "Each of the following will cause an exception (an error). Identify what type of \n",
    "exception each will cause\n",
    "Trying to add incompatible variables, as in \n",
    "adding 6 + ‘a’\n",
    "Referring to the 12th item of a list that has only 10 \n",
    "items\n",
    "Using a value that is out ofrange for a function’s \n",
    "input, such as calling math.sqrt(-1.0)\n",
    "Using an undeclared variable, such as print(x)\n",
    "when x has not been defined\n",
    "Trying to open a file that does not exist, such as \n",
    "mistyping the file name or looking in the wrong\n",
    "directory."
   ]
  },
  {
   "cell_type": "code",
   "execution_count": 41,
   "id": "626d2172",
   "metadata": {},
   "outputs": [
    {
     "ename": "SyntaxError",
     "evalue": "invalid syntax (2185307510.py, line 1)",
     "output_type": "error",
     "traceback": [
      "\u001b[1;36m  File \u001b[1;32m\"C:\\Users\\Dell\\AppData\\Local\\Temp\\ipykernel_7700\\2185307510.py\"\u001b[1;36m, line \u001b[1;32m1\u001b[0m\n\u001b[1;33m    (a) Adding incompatible variables.\u001b[0m\n\u001b[1;37m        ^\u001b[0m\n\u001b[1;31mSyntaxError\u001b[0m\u001b[1;31m:\u001b[0m invalid syntax\n"
     ]
    }
   ],
   "source": [
    "(a) Adding incompatible variables."
   ]
  },
  {
   "cell_type": "code",
   "execution_count": 42,
   "id": "af7386c8",
   "metadata": {},
   "outputs": [
    {
     "name": "stdout",
     "output_type": "stream",
     "text": [
      "Error: unsupported operand type(s) for +: 'int' and 'str'\n"
     ]
    }
   ],
   "source": [
    "try:\n",
    "    print(6 + 'a')\n",
    "except TypeError as e:\n",
    "    print(\"Error:\", e)"
   ]
  },
  {
   "cell_type": "code",
   "execution_count": 43,
   "id": "87930779",
   "metadata": {},
   "outputs": [
    {
     "ename": "SyntaxError",
     "evalue": "invalid syntax (4174495167.py, line 1)",
     "output_type": "error",
     "traceback": [
      "\u001b[1;36m  File \u001b[1;32m\"C:\\Users\\Dell\\AppData\\Local\\Temp\\ipykernel_7700\\4174495167.py\"\u001b[1;36m, line \u001b[1;32m1\u001b[0m\n\u001b[1;33m    (b) Referring to an item that is out of range for a list.\u001b[0m\n\u001b[1;37m        ^\u001b[0m\n\u001b[1;31mSyntaxError\u001b[0m\u001b[1;31m:\u001b[0m invalid syntax\n"
     ]
    }
   ],
   "source": [
    "(b) Referring to an item that is out of range for a list."
   ]
  },
  {
   "cell_type": "code",
   "execution_count": 54,
   "id": "b393d5c5",
   "metadata": {},
   "outputs": [
    {
     "name": "stdout",
     "output_type": "stream",
     "text": [
      "Error: list index out of range\n"
     ]
    }
   ],
   "source": [
    "try:\n",
    "    a = [1, 2, 3, 4, 5, 6, 7, 8, 9, 10]\n",
    "    print(a[11])\n",
    "except IndexError as e:\n",
    "    print(\"Error:\", e)"
   ]
  },
  {
   "cell_type": "code",
   "execution_count": null,
   "id": "5633ebaf",
   "metadata": {},
   "outputs": [],
   "source": [
    "(c) Using a value out of range for a function."
   ]
  },
  {
   "cell_type": "code",
   "execution_count": 55,
   "id": "a3450835",
   "metadata": {},
   "outputs": [
    {
     "name": "stdout",
     "output_type": "stream",
     "text": [
      "Error: math domain error\n"
     ]
    }
   ],
   "source": [
    "import math\n",
    "try:\n",
    "    print(math.sqrt(-1.0))\n",
    "except ValueError as e:\n",
    "    print(\"Error:\", e)"
   ]
  },
  {
   "cell_type": "code",
   "execution_count": null,
   "id": "201e0038",
   "metadata": {},
   "outputs": [],
   "source": [
    "(d) Using an undeclared variable."
   ]
  },
  {
   "cell_type": "code",
   "execution_count": 56,
   "id": "0cdebad5",
   "metadata": {},
   "outputs": [
    {
     "name": "stdout",
     "output_type": "stream",
     "text": [
      "Error: name 'x' is not defined\n"
     ]
    }
   ],
   "source": [
    "try:\n",
    "    print(x)\n",
    "except NameError as e:\n",
    "    print(\"Error:\", e)"
   ]
  },
  {
   "cell_type": "code",
   "execution_count": null,
   "id": "16a23981",
   "metadata": {},
   "outputs": [],
   "source": [
    "(e) Trying to open a file that does not exist."
   ]
  },
  {
   "cell_type": "code",
   "execution_count": 57,
   "id": "b6283214",
   "metadata": {},
   "outputs": [
    {
     "name": "stdout",
     "output_type": "stream",
     "text": [
      "Error: [Errno 2] No such file or directory: 'non_existent_file.txt'\n"
     ]
    }
   ],
   "source": [
    "try:\n",
    "    with open(\"non_existent_file.txt\") as file:\n",
    "        contents = file.read()\n",
    "except FileNotFoundError as e:\n",
    "    print(\"Error:\", e)"
   ]
  },
  {
   "cell_type": "code",
   "execution_count": null,
   "id": "e3f8138f",
   "metadata": {},
   "outputs": [],
   "source": [
    "-> Question 10 Python \n",
    "Encryption is the process of hiding the meaning of a text by substituting letters in the message with other letters, according to some system. If the process is successful, no one but the intended recipient can understand the encrypted message. Cryptanalysis refers to attempts to undo the encryption, even if some details of the encryption are unknown (for example, if an encrypted message has been intercepted). The first step\n",
    "of cryptanalysis is often to build up a table of letter frequencies in the encrypted text.Assume that the string letters is already defined as'abcdefghijklmnopqrstuvwxyz'. Write a function called frequencies()that takes a string as its only parameter, and returns a list of integers, showing the number of times each character appears in the text. Your function may ignore any characters that are not in letters.\n",
    "\n",
    "Expected Output:\n",
    "frequencies('The quick red fox got bored and went home.')\n",
    "[1, 1, 1, 3, 5, 1, 1, 2, 1, 0, 1, 0, 1, 2, 4, 0, 1, 2, 0, 2,\n",
    "1, 0, 1, 1, 0, 0]\n",
    "frequencies('apple')"
   ]
  },
  {
   "cell_type": "code",
   "execution_count": 58,
   "id": "f80eab62",
   "metadata": {},
   "outputs": [
    {
     "name": "stdout",
     "output_type": "stream",
     "text": [
      "[1, 1, 1, 3, 5, 1, 1, 2, 1, 0, 1, 0, 1, 2, 4, 0, 1, 2, 0, 3, 1, 0, 1, 1, 0, 0]\n"
     ]
    }
   ],
   "source": [
    "import collections\n",
    "def frequencies(text):\n",
    "    frequencies = collections.Counter(c for c in text.lower() if c in letters)\n",
    "    return [frequencies[c] for c in letters]\n",
    "\n",
    "letters = 'abcdefghijklmnopqrstuvwxyz'\n",
    "text = \"The quick red fox got bored and went home.\"\n",
    "\n",
    "print(frequencies(text))"
   ]
  },
  {
   "cell_type": "code",
   "execution_count": null,
   "id": "318645cb",
   "metadata": {},
   "outputs": [],
   "source": []
  },
  {
   "cell_type": "code",
   "execution_count": 59,
   "id": "0893c80b",
   "metadata": {},
   "outputs": [
    {
     "name": "stdout",
     "output_type": "stream",
     "text": [
      "[1, 0, 0, 0, 1, 0, 0, 0, 0, 0, 0, 1, 0, 0, 0, 2, 0, 0, 0, 0, 0, 0, 0, 0, 0, 0]\n"
     ]
    }
   ],
   "source": [
    "import collections\n",
    "def frequencies(text):\n",
    "    frequencies = collections.Counter(c for c in text.lower() if c in letters)\n",
    "    return [frequencies[c] for c in letters]\n",
    "\n",
    "letters = 'abcdefghijklmnopqrstuvwxyz'\n",
    "text = \"apple\"\n",
    "\n",
    "print(frequencies(text))"
   ]
  },
  {
   "cell_type": "code",
   "execution_count": null,
   "id": "639c8d8b",
   "metadata": {},
   "outputs": [],
   "source": []
  }
 ],
 "metadata": {
  "kernelspec": {
   "display_name": "Python 3 (ipykernel)",
   "language": "python",
   "name": "python3"
  },
  "language_info": {
   "codemirror_mode": {
    "name": "ipython",
    "version": 3
   },
   "file_extension": ".py",
   "mimetype": "text/x-python",
   "name": "python",
   "nbconvert_exporter": "python",
   "pygments_lexer": "ipython3",
   "version": "3.9.13"
  }
 },
 "nbformat": 4,
 "nbformat_minor": 5
}
