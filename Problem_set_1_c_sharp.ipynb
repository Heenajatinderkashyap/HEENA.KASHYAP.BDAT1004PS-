{
 "cells": [
  {
   "cell_type": "markdown",
   "id": "69cfee60",
   "metadata": {},
   "source": [
    "                                             Problem Set 1\n",
    "                                              c# progarms\n",
    " Question 1 C#\n",
    "What data type is each of the following?\n",
    "\n",
    "5 - is of type 'int'.\n",
    "5.0 - is of type 'double'.\n",
    "5 > 1 - is of type 'bool'.\n",
    "'5' - is of type 'char'.\n",
    "5 * 2 - is of type 'int'.\n",
    "'5' * 2 - will result in a compile-time error, as you cannot multiply a 'char' with an 'int'.\n",
    "'5' + '2' - will result in a compile-time error, as you cannot add two 'char' values.\n",
    "5 / 2 - is of type 'double'.\n",
    "5 % 2 - is of type 'int'.\n",
    "{5, 2, 1} - array of int values so type is int.\n",
    "5 == 3 - is of type 'bool'.\n",
    "Pi (the number) - is of type 'double'.\n"
   ]
  },
  {
   "cell_type": "markdown",
   "id": "69b73af4",
   "metadata": {},
   "source": [
    "Question 2\n",
    "Write (and evaluate) C# expressions that answer these questions:\n",
    "\n",
    "a. How many letters are there in 'Supercalifragilisticexpialidocious'?"
   ]
  },
  {
   "cell_type": "code",
   "execution_count": null,
   "id": "5a72b13c",
   "metadata": {},
   "outputs": [],
   "source": [
    "string word = \"Supercalifragilisticexpialidocious\";\n",
    "int letterCount = word.Length;\n",
    "Console.WriteLine(\"Word '\" + word );\n",
    "Console.WriteLine(letterCount + \" letters.\");"
   ]
  },
  {
   "cell_type": "markdown",
   "id": "27c26b52",
   "metadata": {},
   "source": [
    "b. Does 'Supercalifragilisticexpialidocious' contain 'ice' as a substring?"
   ]
  },
  {
   "cell_type": "code",
   "execution_count": null,
   "id": "bd1691d6",
   "metadata": {},
   "outputs": [],
   "source": [
    "string word = \"Supercalifragilisticexpialidocious\";\n",
    "bool sub = word.Contains(\"ice\");\n",
    "Console.WriteLine(\"The word '\" + word + \"' \" + (sub ? \"contains\" : \"does not contain\") + \" the substring 'ice'.\");"
   ]
  },
  {
   "cell_type": "markdown",
   "id": "01491a06",
   "metadata": {},
   "source": [
    "c. Which of the following words is the longest:\n",
    "Supercalifragilisticexpialidocious, Honorificabilitudinitatibus, or\n",
    "Bababadalgharaghtakamminarronnkonn?"
   ]
  },
  {
   "cell_type": "code",
   "execution_count": null,
   "id": "fd28cfab",
   "metadata": {},
   "outputs": [],
   "source": [
    "string[] words = new string[] { \"Supercalifragilisticexpialidocious\", \"Honorificabilitudinitatibus\", \"Bababadalgharaghtakamminarr\n",
    "int longest = 0;\n",
    "string longest_word = \"\";\n",
    "foreach (string word in words)\n",
    "{\n",
    " if (word.Length > longest)\n",
    " {\n",
    " longest = word.Length;\n",
    " longest_word = word;\n",
    " }\n",
    "}\n",
    "Console.WriteLine(\"The longest word is '\" + longest_word + \"' with a length of \" + longest + \" letters.\");\n"
   ]
  },
  {
   "cell_type": "markdown",
   "id": "8ef8791e",
   "metadata": {},
   "source": [
    "d. Which composer comes first in the dictionary: 'Berlioz', 'Borodin', 'Brian',\n",
    "'Bartok', 'Bellini', 'Buxtehude', 'Bernstein'. Which one comes last?"
   ]
  },
  {
   "cell_type": "code",
   "execution_count": null,
   "id": "d97e5fd6",
   "metadata": {},
   "outputs": [],
   "source": [
    "string[] contains = new string[] { \"Berlioz\", \"Borodin\", \"Brian\", \"Bartok\", \"Bellini\", \"Buxtehude\", \"Bernstein\" };\n",
    "Array.Sort(contains);\n",
    "Console.WriteLine(\"The first contains in the dictionary order is '\" + contains[0] + \"'.\");\n",
    "Console.WriteLine(\"The last contains in the dictionary order is '\" + contains[contains.Length - 1] + \"'.\");"
   ]
  },
  {
   "cell_type": "markdown",
   "id": "529d65df",
   "metadata": {},
   "source": [
    "Question 3\n",
    "Implement function triangleArea(a,b,c) that takes as input the lengths of the 3 sides of a triangle and returns the area of the triangle. By Heron's formula, the area of a triangle with side lengths a, b, and c is s(s − a)(s −b)(s −c), where s = (a + b + c)/2.\n",
    "Output->\n",
    "triangleArea(2,2,2)\n",
    "1.7320508075688772"
   ]
  },
  {
   "cell_type": "code",
   "execution_count": null,
   "id": "a8dacc47",
   "metadata": {},
   "outputs": [],
   "source": [
    "double triangleArea(double a, double b, double c)\n",
    "{\n",
    " double s = (a + b + c) / 2;\n",
    " double area = Math.Sqrt(s * (s - a) * (s - b) * (s - c));\n",
    " return area;\n",
    "}\n",
    "Console.WriteLine(\"The area of the triangle is \" + triangleArea(2, 2, 2));"
   ]
  },
  {
   "cell_type": "markdown",
   "id": "3ba9f9c2",
   "metadata": {},
   "source": [
    "Question 4\n",
    "Write a program in C# Sharp to separate odd and even integers in separate arrays.\n",
    "Go to the editor\n",
    "Test Data :\n",
    "Input the number of elements to be stored in the array :5\n",
    "Input 5 elements in the array :\n",
    "element - 0 : 25\n",
    "element - 1 : 47\n",
    "element - 2 : 42\n",
    "element - 3 : 56\n",
    "element - 4 : 32\n",
    "\n",
    "Expected Output:\n",
    "The Even elements are:\n",
    "42 56 32\n",
    "The Odd elements are :\n",
    "B\n",
    "25 47"
   ]
  },
  {
   "cell_type": "code",
   "execution_count": null,
   "id": "4a163064",
   "metadata": {},
   "outputs": [],
   "source": [
    "using System;\n",
    "class Sharp\n",
    "{\n",
    "    static void Main(string[] args)\n",
    "    {\n",
    "        int[] elements = new int[] { 25, 47, 42, 56, 32 };\n",
    "        int[] evenElements = new int[elements.Length];\n",
    "        int[] oddElements = new int[elements.Length];\n",
    "        int evenCount = 0;\n",
    "        int oddCount = 0;\n",
    "        foreach (int element in elements)\n",
    "        {\n",
    "            if (element % 2 == 0)\n",
    "            {\n",
    "                evenElements[evenCount] = element;\n",
    "                evenCount++;\n",
    "            }\n",
    "            else\n",
    "            {\n",
    "                oddElements[oddCount] = element;\n",
    "                oddCount++;\n",
    "            }\n",
    "        }\n",
    "        Console.WriteLine(\"Even elements: \");\n",
    "        for (int i = 0; i < evenCount; i++)\n",
    "        {\n",
    "            Console.Write(evenElements[i] + \" \");\n",
    "        }\n",
    "        Console.WriteLine();\n",
    "        Console.WriteLine(\"Odd elements: \");\n",
    "        for (int i = 0; i < oddCount; i++)\n",
    "        {\n",
    "            Console.Write(oddElements[i] + \" \");\n",
    "        }\n",
    "        Console.WriteLine();\n",
    "    }\n",
    "}"
   ]
  },
  {
   "cell_type": "code",
   "execution_count": null,
   "id": "c99f7adb",
   "metadata": {},
   "outputs": [],
   "source": [
    "QUESTION 5\n",
    "a. Write a function inside(x,y,x1,y1,x2,y2) that returns True or False\n",
    "dependingonwhetherthepoint(x,y)liesintherectanglewithlowerleft\n",
    "corner (x1,y1) and upper right corner (x2,y2).\n",
    "\n",
    "Expected Output:\n",
    "inside(1,1,0,0,2,3)\n",
    "True\n",
    "inside(-1,-1,0,0,2,3)\n",
    "False"
   ]
  },
  {
   "cell_type": "code",
   "execution_count": null,
   "id": "ab3ee824",
   "metadata": {},
   "outputs": [],
   "source": [
    "bool insideRectangle(int x, int y, int x1, int y1, int x2, int y2)\n",
    "{\n",
    " if (x >= x1 && x <= x2 && y >= y1 && y <= y2)\n",
    " {\n",
    " return true;\n",
    " }\n",
    " else\n",
    " {\n",
    " return false;\n",
    " }\n",
    "}\n",
    "Console.WriteLine(insideRectangle(1, 1, 0, 0, 2, 3));\n",
    "Console.WriteLine(insideRectangle(-1, -1, 0, 0, 2, 3));"
   ]
  },
  {
   "cell_type": "code",
   "execution_count": null,
   "id": "2ebba68e",
   "metadata": {},
   "outputs": [],
   "source": [
    "b. Use function inside()from part a. to write an expression that tests whether\n",
    "the point (1,1) lies in both of the following rectangles: one with lower left\n",
    "corner (0.3, 0.5) and upper right corner (1.1, 0.7) and the other with lower\n",
    "left corner (0.5, 0.2) and upper right corner (1.1, 2)"
   ]
  },
  {
   "cell_type": "code",
   "execution_count": null,
   "id": "7cf82091",
   "metadata": {},
   "outputs": [],
   "source": [
    "bool insideExtendedRectangle(double x, double y, double x1, double x2, double y1, double y2, double x11, double y11, double x22, double y22)\n",
    "{\n",
    " if (((x >= x1 && x <= x2) && (y >= y1 && y <= y2)) && ((x > x11 && x < x22) && (y > y11 && y < y22)))\n",
    " {\n",
    " return true;\n",
    " }\n",
    " else\n",
    " {\n",
    " return false;\n",
    " }\n",
    " \n",
    "}\n",
    "bool result = insideExtendedRectangle(1, 1, 0.3, 0.5, 1.1, 0.7, 0.5, 0.2, 1.1, 2);\n",
    "Console.WriteLine(\"The point (1,1) lies between  both rectangles: \" + result);"
   ]
  }
 ],
 "metadata": {
  "kernelspec": {
   "display_name": "Python 3 (ipykernel)",
   "language": "python",
   "name": "python3"
  },
  "language_info": {
   "codemirror_mode": {
    "name": "ipython",
    "version": 3
   },
   "file_extension": ".py",
   "mimetype": "text/x-python",
   "name": "python",
   "nbconvert_exporter": "python",
   "pygments_lexer": "ipython3",
   "version": "3.9.13"
  }
 },
 "nbformat": 4,
 "nbformat_minor": 5
}
